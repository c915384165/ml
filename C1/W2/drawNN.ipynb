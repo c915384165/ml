{
 "cells": [
  {
   "cell_type": "code",
   "execution_count": 5,
   "metadata": {},
   "outputs": [
    {
     "name": "stdout",
     "output_type": "stream",
     "text": [
      "输入神经网络每层节点数，如：[10, 7, 5, 4, 2, 1]\n",
      "[2,3,4,5]\n"
     ]
    }
   ],
   "source": [
    "import pygraphviz as pgv\n",
    "\n",
    "G = pgv.AGraph(directed=True, rankdir=\"LR\")\n",
    "\n",
    "# 设置层数、每层节点数\n",
    "network_structure = input(\"输入神经网络每层节点数，如：[10, 7, 5, 4, 2, 1]\\n\")\n",
    "all_nodes = [[f\"layer{layer_index}node{node_index}\" for node_index in range(layer_nodes_num)] for\n",
    "             layer_index, layer_nodes_num in enumerate(eval(network_structure))]\n",
    "\n",
    "# 添加输入层节点\n",
    "for node_index, node in enumerate(all_nodes[0]):\n",
    "    G.add_node(node, label=\"\", shape=\"circle\", style=\"bold\", color=\"#60acfc\", pos=f\"0,{0.6 * node_index}!\")\n",
    "\n",
    "# 添加输入层文本\n",
    "G.add_node(f\"Input_Layer\", shape=\"none\", label=f\"Input_Layer({len(all_nodes[0])})\",\n",
    "           pos=f\"{0},{(node_index + 1) * 0.6}!\")\n",
    "\n",
    "# 添加中间层、输出层节点\n",
    "for layer_index, layer in enumerate(all_nodes[1:]):\n",
    "    color = \"#5bc49f\" if layer_index == len(all_nodes[1:]) - 1 else \"#ff7c7c\"\n",
    "\n",
    "    for node_index, node in enumerate(layer):\n",
    "        x = 1.5 * (layer_index + 1)\n",
    "        y = - 0.3 * (len(all_nodes[layer_index + 1]) - len(all_nodes[0])) + 0.6 * node_index\n",
    "        G.add_node(node, label=\"\", shape=\"circle\", style=\"bold\", color=color, pos=f\"{x},{y}!\")\n",
    "\n",
    "    # 添加中间层、输出层文本\n",
    "    text = f\"Output_Layer({len(all_nodes[-1])})\" if layer_index == len(all_nodes[1:]) - 1 else f\"Layer_{layer_index + 1}({len(layer)})\"\n",
    "    G.add_node(f\"Layer_{layer_index + 1})\", shape=\"none\", label=text,\n",
    "               pos=f\"{x},{y + 0.4}!\")\n",
    "\n",
    "# 添加线\n",
    "for layer_index in range(all_nodes.__len__() - 1):\n",
    "    for start in all_nodes[layer_index]:\n",
    "        for end in all_nodes[layer_index + 1]:\n",
    "            G.add_edge(start, end)\n",
    "\n",
    "# 导出图形\n",
    "G.layout()\n",
    "G.draw(\"神经网络.png\")\n",
    "\n",
    "# 运行代码，输入 [5, 10, 15, 15, 15, 10, 5, 1]"
   ]
  },
  {
   "cell_type": "code",
   "execution_count": null,
   "metadata": {},
   "outputs": [],
   "source": []
  }
 ],
 "metadata": {
  "kernelspec": {
   "display_name": "py3env",
   "language": "python",
   "name": "py3env"
  },
  "language_info": {
   "codemirror_mode": {
    "name": "ipython",
    "version": 3
   },
   "file_extension": ".py",
   "mimetype": "text/x-python",
   "name": "python",
   "nbconvert_exporter": "python",
   "pygments_lexer": "ipython3",
   "version": "3.7.6"
  }
 },
 "nbformat": 4,
 "nbformat_minor": 4
}
